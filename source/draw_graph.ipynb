{
 "metadata": {
  "language_info": {
   "codemirror_mode": {
    "name": "ipython",
    "version": 3
   },
   "file_extension": ".py",
   "mimetype": "text/x-python",
   "name": "python",
   "nbconvert_exporter": "python",
   "pygments_lexer": "ipython3",
   "version": "3.8.5-final"
  },
  "orig_nbformat": 2,
  "kernelspec": {
   "name": "python3",
   "display_name": "Python 3",
   "language": "python"
  }
 },
 "nbformat": 4,
 "nbformat_minor": 2,
 "cells": [
  {
   "cell_type": "code",
   "execution_count": null,
   "metadata": {},
   "outputs": [],
   "source": [
    "# 만든 그래프를 경위도 좌표계에 도시합니다."
   ]
  },
  {
   "cell_type": "code",
   "execution_count": null,
   "metadata": {},
   "outputs": [],
   "source": [
    "# create_graph에서 만든 그래프 자료를 로드합니다."
   ]
  },
  {
   "cell_type": "code",
   "execution_count": null,
   "metadata": {},
   "outputs": [],
   "source": [
    "import networkx as nx\n",
    "import json\n",
    "import pandas as pd\n",
    "\n",
    "G_modified = nx.read_gml('../data/output/metro_graph.gml')\n",
    "\n",
    "interchange_list = None\n",
    "with open('../data/output/interchange_list.json', 'r') as f:\n",
    "    interchange_list = json.load(f)\n",
    "\n",
    "station_id_df = pd.read_parquet('../data/output/station_id_table.parquet')\n",
    "id_no_dict, id_name_dict, _, id_x_dict, id_y_dict = station_id_df.set_index('station_id').T.to_dict('records')\n",
    "id_coord_dict = {key: (id_x_dict[key], id_y_dict[key]) for key in id_x_dict.keys()}\n",
    "\n",
    "line_no_df = pd.read_parquet('../data/output/line_no_table.parquet')\n",
    "no_name_dict, no_color_dict = line_no_df.set_index('line_no').T.to_dict('records')"
   ]
  },
  {
   "cell_type": "code",
   "execution_count": null,
   "metadata": {},
   "outputs": [],
   "source": [
    "# 그래프를 그립니다.\n",
    "# 그래프 G는 환승역이 서로 간선으로 연결되어 있기 때문에 이를 식별하기 어렵습니다.\n",
    "# 따라서 환승역 정점를 하나의 정점로 바꾸고(ID는 concatenating), 경위도는 평균점으로 합니다."
   ]
  },
  {
   "cell_type": "code",
   "execution_count": null,
   "metadata": {},
   "outputs": [],
   "source": [
    "for interchange_nodes in interchange_list:\n",
    "    interchange_nodes.sort()\n",
    "    \n",
    "    # 하나의 정점으로 바꾼 역 ID, 노선, 역명입니다.\n",
    "    new_station_id = ' '.join(interchange_nodes)\n",
    "    new_station_name = id_name_dict[interchange_nodes[0]]\n",
    "    new_line_no = ' '.join(map(id_no_dict.get, interchange_nodes))\n",
    "\n",
    "    # 각 노드의 인접한 간선을 모두 구합니다.\n",
    "    # 그래프에서 환승역 정점을 삭제합니다.\n",
    "    adjacent_set = set()\n",
    "    for interchange_node in interchange_nodes:\n",
    "        adjacent_edges = ((key, value['line_no']) for key, value in G_modified[interchange_node].items() if value['line_no'] != '')\n",
    "        adjacent_set.update(adjacent_edges) # 동일한 역 간에 연결된 간선(환승 간선)을 삭제합니다.\n",
    "    G_modified.remove_nodes_from(interchange_nodes)\n",
    "\n",
    "    # 환승역 정점의 평균 경위도를 구합니다.\n",
    "    # 구한 경위도를 id_coord_dict에 추가합니다.\n",
    "    xx, yy = zip(*map(id_coord_dict.get, interchange_nodes))\n",
    "    mean_pos = (sum(xx)/len(xx), sum(yy)/len(yy))\n",
    "\n",
    "    id_coord_dict[new_station_id] = mean_pos\n",
    "    id_name_dict[new_station_id] = new_station_name\n",
    "\n",
    "    # 환승역의 평균점 정점를 추가합니다.\n",
    "    G_modified.add_node(new_station_id, line_no=new_line_no, station_name=new_station_name, pos=mean_pos, is_interchange=True)\n",
    "    adjacent_set = set(x for x in adjacent_set if x[0] in G_modified.nodes())\n",
    "\n",
    "    # 새로운 환승역과 인접한 정점의 간선을 다시 연결합니다.\n",
    "    # 만일 adjacent_set에 같은 노드를 가르키는 요소가 존재할 경우, attrib의 line_no를 concatenate합니다.\n",
    "    for adjacent_node, line_no in adjacent_set:\n",
    "        if (new_station_id, adjacent_node) in G_modified.edges():\n",
    "            G_modified[new_station_id][adjacent_node]['line_no'] += ' '+line_no\n",
    "        else:\n",
    "            G_modified.add_edge(new_station_id, adjacent_node, line_no=line_no)\n",
    "    # concatenate된 line_no를 정렬합니다.\n",
    "    G_modified[new_station_id][adjacent_node]['line_no'] = ' '.join(sorted(G_modified[new_station_id][adjacent_node]['line_no'].split()))"
   ]
  },
  {
   "cell_type": "code",
   "execution_count": null,
   "metadata": {},
   "outputs": [],
   "source": [
    "# import geopandas as gpd\n",
    "\n",
    "# ctprvn_gdf = gpd.read_file('../data/input/CTPRVN/CTPRVN.shp')\n",
    "# sig_gdf = gpd.read_file('../data/input/SIG/SIG.shp')"
   ]
  },
  {
   "cell_type": "code",
   "execution_count": null,
   "metadata": {},
   "outputs": [],
   "source": [
    "import matplotlib.pyplot as plt\n",
    "from matplotlib.lines import Line2D\n",
    "\n",
    "plt.rcParams['figure.figsize'] = (10, 10)\n",
    "plt.rcParams['font.family'] = 'Malgun Gothic'\n",
    "_, ax = plt.subplots()\n",
    "\n",
    "# 노선 도시 이전 행정 경계를 그립니다.\n",
    "# ctprvn_gdf.plot(ax=ax, color='whitesmoke', edgecolor='lightgrey')\n",
    "# sig_gdf.plot(ax=ax, color='whitesmoke', edgecolor='lightgrey')\n",
    "\n",
    "# 간선(역간 연결)을 그립니다.\n",
    "# 현재 4호선·수인분당선 한대앞역~오이도역 전 구간, 6호선·경의중앙선 공덕~효창공원 구간에서의 복선 도시가 이루어지지 않았습니다(20201222).\n",
    "first_line_no = (no[0] for no in nx.get_edge_attributes(G_modified, 'line_no').values())\n",
    "edge_colors = list(map(no_color_dict.get, first_line_no))\n",
    "nx.draw(G_modified, pos=id_coord_dict, edge_color=edge_colors, ax=ax, node_size=0, width=1)\n",
    "\n",
    "# 정점(역)을 그립니다.\n",
    "interchange_pos = []\n",
    "primary_pos = []\n",
    "\n",
    "for station_id, attrib in G_modified.nodes(data=True):\n",
    "    pos = attrib['pos']\n",
    "    if attrib['is_interchange']:\n",
    "        interchange_pos.append(pos)\n",
    "    else:\n",
    "        primary_pos.append(pos)\n",
    "\n",
    "interchange_xx, interchange_yy = zip(*interchange_pos)\n",
    "ax.scatter(interchange_xx, interchange_yy, s=12, c='r', linewidths=1, edgecolors='k', zorder=10)\n",
    "\n",
    "xx, yy = zip(*primary_pos)\n",
    "ax.scatter(xx, yy, s=8, c='w', linewidths=1, edgecolors='k', zorder=5)\n",
    "\n",
    "# matplotlib 설정\n",
    "ax.set_title('수도권 전철 노선도')\n",
    "ax.set_axis_on()\n",
    "ax.set_xlabel('longitude')\n",
    "ax.set_ylabel('latitude')\n",
    "# ax.set_xbound(126.3691303996574, 127.78836114785861) # 전체 노선도 기준\n",
    "# ax.set_ybound(36.71067953528156, 38.00786035654195)\n",
    "ax.set_xbound(126.74351841147657, 127.20476047389174) # 서울특별시 기준\n",
    "ax.set_ybound(37.41463958768953, 37.71511317524018)\n",
    "ax.set_aspect(109.958489129649955/88.74) # 1km 당 경도값을 1km당 위도값으로 나눈 것\n",
    "ax.tick_params(left=True, bottom=True, labelleft=True, labelbottom=True)\n",
    "\n",
    "# 범례 설정\n",
    "legend_lines = (Line2D([0], [0], color=no_color_dict[line_no], lw=2) for line_no in no_name_dict.keys())\n",
    "ax.legend(legend_lines, no_name_dict.values())\n",
    "\n",
    "plt.savefig('../data/output/view_seoul.svg')\n",
    "plt.show()"
   ]
  },
  {
   "cell_type": "code",
   "execution_count": null,
   "metadata": {},
   "outputs": [],
   "source": []
  }
 ]
}